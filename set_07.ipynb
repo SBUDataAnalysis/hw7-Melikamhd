{
  "cells": [
    {
      "cell_type": "markdown",
      "metadata": {
        "id": "TISWIxRfnfQk"
      },
      "source": [
        "# Q1\n",
        "\n",
        "Consider the probability distribution below:\n",
        "\n",
        "$$P(x) = e^{0.4(x-0.4)^2 - 0.08 x^4}$$\n"
      ],
      "id": "TISWIxRfnfQk"
    },
    {
      "cell_type": "markdown",
      "metadata": {
        "id": "9URlOQTInfQt"
      },
      "source": [
        "## (a)\n",
        "Write a function to implement Metropolice algorithm to generate random samples that have the same PDF as the given formula."
      ],
      "id": "9URlOQTInfQt"
    },
    {
      "cell_type": "code",
      "execution_count": 1,
      "metadata": {
        "id": "kfmlhNWtnfQv",
        "colab": {
          "base_uri": "https://localhost:8080/"
        },
        "outputId": "7c35b408-6fb9-4c80-a776-76b987f5b30d"
      },
      "outputs": [
        {
          "output_type": "stream",
          "name": "stderr",
          "text": [
            "/usr/local/lib/python3.7/dist-packages/statsmodels/tools/_testing.py:19: FutureWarning: pandas.util.testing is deprecated. Use the functions in the public API at pandas.testing instead.\n",
            "  import pandas.util.testing as tm\n"
          ]
        }
      ],
      "source": [
        "import numpy as np\n",
        "import matplotlib.pyplot as plt\n",
        "from random import random\n",
        "from statsmodels.graphics import tsaplots\n",
        "from scipy import integrate\n",
        "from scipy.stats import norm"
      ],
      "id": "kfmlhNWtnfQv"
    },
    {
      "cell_type": "code",
      "execution_count": 8,
      "metadata": {
        "id": "TnSHD1ienfQy"
      },
      "outputs": [],
      "source": [
        "def P(x):\n",
        "    return np.exp(0.4*(x-0.4)**2-0.08*x**4)"
      ],
      "id": "TnSHD1ienfQy"
    },
    {
      "cell_type": "code",
      "execution_count": 9,
      "metadata": {
        "id": "fUJ085SknfQ0"
      },
      "outputs": [],
      "source": [
        "def w(x_trial, x_i):\n",
        "     return P(x_i)/ P(x_trial)"
      ],
      "id": "fUJ085SknfQ0"
    },
    {
      "cell_type": "code",
      "execution_count": 10,
      "metadata": {
        "id": "_z6zD2HxnfQ1"
      },
      "outputs": [],
      "source": [
        "def Metropolice(x, P, w):\n",
        "    s = []\n",
        "    x1 = np.random.rand()\n",
        "\n",
        "    i = 0\n",
        "    while i <= x:\n",
        "      x2 = x1 + np.random.uniform(-P, P)\n",
        "      a = min(1, w(x1, x2))\n",
        "      b = np.random.rand()\n",
        "      if b <= a:\n",
        "        s.append(x2)\n",
        "        x1 = x2\n",
        "      else:\n",
        "        s.append(x1)\n",
        "        i+=1\n",
        "    return s"
      ],
      "id": "_z6zD2HxnfQ1"
    },
    {
      "cell_type": "markdown",
      "metadata": {
        "id": "gDo_4QrBnfQ3"
      },
      "source": [
        "## (b)\n",
        "Plot the function alongside with the histogram of the generated sample. Do they match? If not, what shall be done here?"
      ],
      "id": "gDo_4QrBnfQ3"
    },
    {
      "cell_type": "code",
      "execution_count": 11,
      "metadata": {
        "id": "na0v7UednfQ4"
      },
      "outputs": [],
      "source": [
        "n = 100000\n",
        "bins = 100\n",
        "PDF = Metropolice(n , 1, w)\n",
        "x = np.linspace(-5, 5, n)\n",
        "integral = integrate.quad(P, -np.inf, np.inf)[0]"
      ],
      "id": "na0v7UednfQ4"
    },
    {
      "cell_type": "code",
      "execution_count": 12,
      "metadata": {
        "id": "ZFCD0cSUnfQ6",
        "outputId": "3ed5c071-a298-4b69-d054-c72bd93e62c8",
        "colab": {
          "base_uri": "https://localhost:8080/",
          "height": 451
        }
      },
      "outputs": [
        {
          "output_type": "display_data",
          "data": {
            "text/plain": [
              "<Figure size 1296x576 with 1 Axes>"
            ],
            "image/png": "[encoded data removed]"
          },
          "metadata": {
            "needs_background": "light"
          }
        }
      ],
      "source": [
        "plt.figure(figsize= (18, 8))\n",
        "plt.plot(x, P(x)/integral, 'r')\n",
        "plt.hist(PDF, bins = bins,  density = True)\n",
        "plt.show()"
      ],
      "id": "ZFCD0cSUnfQ6"
    },
    {
      "cell_type": "markdown",
      "metadata": {
        "id": "MqLbpHVcnfQ9"
      },
      "source": [
        "## (c)\n",
        "Generate data using Metropolice algorithm with four different values for step size (0.1, 0.5, 1 and 2) and plot the autocorrelation function for each case. which one becomes uncorrelated sooner?"
      ],
      "id": "MqLbpHVcnfQ9"
    },
    {
      "cell_type": "code",
      "execution_count": 13,
      "metadata": {
        "scrolled": false,
        "id": "V37xwAPCnfQ-"
      },
      "outputs": [],
      "source": [
        "i1 = Metropolice(n , 0.1, w)\n",
        "i2 = Metropolice(n , 0.5, w)\n",
        "i3 = Metropolice(n , 1, w)\n",
        "i4 = Metropolice(n , 2, w)"
      ],
      "id": "V37xwAPCnfQ-"
    },
    {
      "cell_type": "code",
      "source": [
        "fig, ax = plt.subplots(1, 1, figsize= (18,8))\n",
        "\n",
        "tsaplots.plot_acf(i1, ax = ax, lags=100, use_vlines= False, label = \"Step size = 0.1\")\n",
        "tsaplots.plot_acf(i2, ax = ax, lags=100, use_vlines= False, label = \"Step size = 0.5\")\n",
        "tsaplots.plot_acf(i3, ax = ax, lags=100, use_vlines= False, label = \"Step size = 1\")\n",
        "tsaplots.plot_acf(i4, ax = ax, lags=100, use_vlines= False, label = \"Step size = 2\")\n",
        "\n",
        "plt.show()"
      ],
      "metadata": {
        "id": "hVu5vMf3eELb"
      },
      "id": "hVu5vMf3eELb",
      "execution_count": null,
      "outputs": []
    },
    {
      "cell_type": "code",
      "source": [
        "#cell bala 11 min tool keshid cancel kardm! nemidoonam chera!"
      ],
      "metadata": {
        "id": "kURPmrH1kMGl"
      },
      "id": "kURPmrH1kMGl",
      "execution_count": 72,
      "outputs": []
    },
    {
      "cell_type": "markdown",
      "metadata": {
        "id": "3HqhnjdvnfQ_"
      },
      "source": [
        "# Q2: Variational Monte Carlo"
      ],
      "id": "3HqhnjdvnfQ_"
    },
    {
      "cell_type": "markdown",
      "metadata": {
        "id": "-dcUrHXMnfRA"
      },
      "source": [
        "Imagine we have a quantum harmonic osscilator were the Hamiltonian is\n",
        "$$\\hat{H} = -\\frac{1}{2}\\frac{d^2}{dx^2} + \\frac{1}{2}x^2 $$\n",
        "\n",
        "In oreder to solve this, we guess a wave function, and then using Monte Carlo methods, we try to find the lowest energy state.\n",
        "\n",
        "Now imagine our wave function is\n",
        "\n",
        "$$ \\psi \\propto e^{-\\lambda x^2} $$\n",
        "\n",
        "Then the local energy of the system at each point would be\n",
        "\n",
        "$$ E_L = \\frac{H \\psi}{\\psi} = \\lambda + x^2 (\\frac{1}{2} - 2\\lambda^2) $$"
      ],
      "id": "-dcUrHXMnfRA"
    },
    {
      "cell_type": "markdown",
      "metadata": {
        "id": "-rFRvBrMnfRB"
      },
      "source": [
        "## (a)\n",
        "\n",
        "Write a Metropolice algorithm to generate values for $x$ as a function of $\\lambda$. Then plot the PDF alongside with the analitycal function for $P(x) = \\psi^2(x)$ to confirm that they match.\n",
        "\n",
        "P.S. in quantum mechanics, the probability function is always given as $\\psi^2$."
      ],
      "id": "-rFRvBrMnfRB"
    },
    {
      "cell_type": "code",
      "execution_count": 59,
      "metadata": {
        "id": "OzAhPks7nfRB"
      },
      "outputs": [],
      "source": [
        "def P(x, la):\n",
        "    return np.exp(-2 * la * x**2)"
      ],
      "id": "OzAhPks7nfRB"
    },
    {
      "cell_type": "code",
      "execution_count": 60,
      "metadata": {
        "id": "2VNfPahsnfRC"
      },
      "outputs": [],
      "source": [
        "def Metropolis(x, P, la):\n",
        "    s = []\n",
        "    x1 = np.random.rand()\n",
        "\n",
        "    i = 0\n",
        "    while i <= x:\n",
        "      x2 = x1 + np.random.uniform(-1, 1)\n",
        "      w = P(x2, la)/P(x1, la)\n",
        "      a = min(1, w)\n",
        "      b = np.random.rand()\n",
        "\n",
        "      if b <= a:\n",
        "        s.append(x2)\n",
        "        x1 = x2\n",
        "      else:\n",
        "        s.append(x1)\n",
        "        i+=1\n",
        "    return s"
      ],
      "id": "2VNfPahsnfRC"
    },
    {
      "cell_type": "code",
      "execution_count": 63,
      "metadata": {
        "id": "cqcSXUCTnfRD"
      },
      "outputs": [],
      "source": [
        "n = 100000\n",
        "bins = 100\n",
        "x = np.linspace(-3 , 3, n)\n",
        "la = np.random.uniform(0, 3)\n",
        "s = Metropolis(n, P, la)\n",
        "integral = integrate.quad(lambda x : P(x, la), -np.inf, np.inf)[0]"
      ],
      "id": "cqcSXUCTnfRD"
    },
    {
      "cell_type": "code",
      "execution_count": 64,
      "metadata": {
        "scrolled": true,
        "id": "CPTp8BB6nfRE",
        "outputId": "e3d6fa8f-88fb-49d9-ecab-b7ebbc11245d",
        "colab": {
          "base_uri": "https://localhost:8080/",
          "height": 452
        }
      },
      "outputs": [
        {
          "output_type": "display_data",
          "data": {
            "text/plain": [
              "<Figure size 1296x576 with 1 Axes>"
            ],
            "image/png": "[encoded data removed]"
          },
          "metadata": {
            "needs_background": "light"
          }
        }
      ],
      "source": [
        "plt.figure(figsize= (18, 8))\n",
        "plt.hist(s, bins = bins,  density = True)\n",
        "plt.plot(x, P(x, la)/integral, 'r')\n",
        "plt.show()"
      ],
      "id": "CPTp8BB6nfRE"
    },
    {
      "cell_type": "markdown",
      "metadata": {
        "id": "xzGwuF5InfRF"
      },
      "source": [
        "## (b)\n",
        "\n",
        "Write two functions to calculate the expectation value $\\langle E_L \\rangle$ and $\\sigma^2 = \\langle E_L^2 \\rangle - \\langle E_L \\rangle^2$ as a function of $\\lambda$."
      ],
      "id": "xzGwuF5InfRF"
    },
    {
      "cell_type": "code",
      "execution_count": 65,
      "metadata": {
        "id": "cz8kk2vfnfRG"
      },
      "outputs": [],
      "source": [
        "def E_L(x, la):\n",
        "  return la + np.power(x, 2)*(0.5- 2* la**2)"
      ],
      "id": "cz8kk2vfnfRG"
    },
    {
      "cell_type": "code",
      "source": [
        "def mean_val(x, la, E_L):\n",
        "  return np.mean(E_L(x, la))"
      ],
      "metadata": {
        "id": "qmp8ADWcpytg"
      },
      "id": "qmp8ADWcpytg",
      "execution_count": 66,
      "outputs": []
    },
    {
      "cell_type": "code",
      "source": [
        "def var(x, la, E_L):\n",
        "  return np.var(E_L(x, la))"
      ],
      "metadata": {
        "id": "fMX1sub9p2Bs"
      },
      "id": "fMX1sub9p2Bs",
      "execution_count": 67,
      "outputs": []
    },
    {
      "cell_type": "code",
      "source": [
        "L = np.linspace(0, 5, 50)"
      ],
      "metadata": {
        "id": "kRS_TrLBqFfS"
      },
      "id": "kRS_TrLBqFfS",
      "execution_count": 68,
      "outputs": []
    },
    {
      "cell_type": "markdown",
      "metadata": {
        "id": "k412eQWenfRH"
      },
      "source": [
        "## (c)\n",
        "\n",
        "Generate a uniform sample of values for $\\lambda$, plot the mean and the variance and find the best value for $\\lambda$ (The minimum energy value)."
      ],
      "id": "k412eQWenfRH"
    },
    {
      "cell_type": "code",
      "execution_count": 71,
      "metadata": {
        "id": "gF_nMHK8nfRI",
        "outputId": "1a0fea0e-32df-42af-cc1e-35f294a622b0",
        "colab": {
          "base_uri": "https://localhost:8080/",
          "height": 328
        }
      },
      "outputs": [
        {
          "output_type": "error",
          "ename": "KeyboardInterrupt",
          "evalue": "ignored",
          "traceback": [
            "\u001b[0;31m---------------------------------------------------------------------------\u001b[0m",
            "\u001b[0;31mKeyboardInterrupt\u001b[0m                         Traceback (most recent call last)",
            "\u001b[0;32m<ipython-input-71-68aa52fb1aeb>\u001b[0m in \u001b[0;36m<module>\u001b[0;34m()\u001b[0m\n\u001b[1;32m      3\u001b[0m \u001b[0;34m\u001b[0m\u001b[0m\n\u001b[1;32m      4\u001b[0m \u001b[0;32mfor\u001b[0m \u001b[0ml\u001b[0m \u001b[0;32min\u001b[0m \u001b[0mL\u001b[0m\u001b[0;34m:\u001b[0m\u001b[0;34m\u001b[0m\u001b[0;34m\u001b[0m\u001b[0m\n\u001b[0;32m----> 5\u001b[0;31m   \u001b[0mxx\u001b[0m \u001b[0;34m=\u001b[0m \u001b[0mMetropolis\u001b[0m\u001b[0;34m(\u001b[0m\u001b[0mn\u001b[0m\u001b[0;34m,\u001b[0m \u001b[0mP\u001b[0m\u001b[0;34m,\u001b[0m \u001b[0ml\u001b[0m\u001b[0;34m)\u001b[0m\u001b[0;34m\u001b[0m\u001b[0;34m\u001b[0m\u001b[0m\n\u001b[0m\u001b[1;32m      6\u001b[0m   \u001b[0mmean_\u001b[0m \u001b[0;34m=\u001b[0m \u001b[0mmean_v\u001b[0m\u001b[0;34m(\u001b[0m\u001b[0mxx\u001b[0m\u001b[0;34m,\u001b[0m \u001b[0ml\u001b[0m\u001b[0;34m,\u001b[0m \u001b[0mE_L\u001b[0m\u001b[0;34m)\u001b[0m\u001b[0;34m\u001b[0m\u001b[0;34m\u001b[0m\u001b[0m\n\u001b[1;32m      7\u001b[0m   \u001b[0mvar_\u001b[0m \u001b[0;34m=\u001b[0m \u001b[0mvarr\u001b[0m\u001b[0;34m(\u001b[0m\u001b[0mxx\u001b[0m\u001b[0;34m,\u001b[0m \u001b[0ml\u001b[0m\u001b[0;34m,\u001b[0m \u001b[0mE_L\u001b[0m\u001b[0;34m)\u001b[0m\u001b[0;34m\u001b[0m\u001b[0;34m\u001b[0m\u001b[0m\n",
            "\u001b[0;32m<ipython-input-60-1cd5efd9f53d>\u001b[0m in \u001b[0;36mMetropolis\u001b[0;34m(x, P, la)\u001b[0m\n\u001b[1;32m      6\u001b[0m     \u001b[0;32mwhile\u001b[0m \u001b[0mi\u001b[0m \u001b[0;34m<=\u001b[0m \u001b[0mx\u001b[0m\u001b[0;34m:\u001b[0m\u001b[0;34m\u001b[0m\u001b[0;34m\u001b[0m\u001b[0m\n\u001b[1;32m      7\u001b[0m       \u001b[0mx2\u001b[0m \u001b[0;34m=\u001b[0m \u001b[0mx1\u001b[0m \u001b[0;34m+\u001b[0m \u001b[0mnp\u001b[0m\u001b[0;34m.\u001b[0m\u001b[0mrandom\u001b[0m\u001b[0;34m.\u001b[0m\u001b[0muniform\u001b[0m\u001b[0;34m(\u001b[0m\u001b[0;34m-\u001b[0m\u001b[0;36m1\u001b[0m\u001b[0;34m,\u001b[0m \u001b[0;36m1\u001b[0m\u001b[0;34m)\u001b[0m\u001b[0;34m\u001b[0m\u001b[0;34m\u001b[0m\u001b[0m\n\u001b[0;32m----> 8\u001b[0;31m       \u001b[0mw\u001b[0m \u001b[0;34m=\u001b[0m \u001b[0mP\u001b[0m\u001b[0;34m(\u001b[0m\u001b[0mx2\u001b[0m\u001b[0;34m,\u001b[0m \u001b[0mla\u001b[0m\u001b[0;34m)\u001b[0m\u001b[0;34m/\u001b[0m\u001b[0mP\u001b[0m\u001b[0;34m(\u001b[0m\u001b[0mx1\u001b[0m\u001b[0;34m,\u001b[0m \u001b[0mla\u001b[0m\u001b[0;34m)\u001b[0m\u001b[0;34m\u001b[0m\u001b[0;34m\u001b[0m\u001b[0m\n\u001b[0m\u001b[1;32m      9\u001b[0m       \u001b[0ma\u001b[0m \u001b[0;34m=\u001b[0m \u001b[0mmin\u001b[0m\u001b[0;34m(\u001b[0m\u001b[0;36m1\u001b[0m\u001b[0;34m,\u001b[0m \u001b[0mw\u001b[0m\u001b[0;34m)\u001b[0m\u001b[0;34m\u001b[0m\u001b[0;34m\u001b[0m\u001b[0m\n\u001b[1;32m     10\u001b[0m       \u001b[0mb\u001b[0m \u001b[0;34m=\u001b[0m \u001b[0mnp\u001b[0m\u001b[0;34m.\u001b[0m\u001b[0mrandom\u001b[0m\u001b[0;34m.\u001b[0m\u001b[0mrand\u001b[0m\u001b[0;34m(\u001b[0m\u001b[0;34m)\u001b[0m\u001b[0;34m\u001b[0m\u001b[0;34m\u001b[0m\u001b[0m\n",
            "\u001b[0;32m<ipython-input-59-ea4ae8aea177>\u001b[0m in \u001b[0;36mP\u001b[0;34m(x, la)\u001b[0m\n\u001b[1;32m      1\u001b[0m \u001b[0;32mdef\u001b[0m \u001b[0mP\u001b[0m\u001b[0;34m(\u001b[0m\u001b[0mx\u001b[0m\u001b[0;34m,\u001b[0m \u001b[0mla\u001b[0m\u001b[0;34m)\u001b[0m\u001b[0;34m:\u001b[0m\u001b[0;34m\u001b[0m\u001b[0;34m\u001b[0m\u001b[0m\n\u001b[0;32m----> 2\u001b[0;31m     \u001b[0;32mreturn\u001b[0m \u001b[0mnp\u001b[0m\u001b[0;34m.\u001b[0m\u001b[0mexp\u001b[0m\u001b[0;34m(\u001b[0m\u001b[0;34m-\u001b[0m\u001b[0;36m2\u001b[0m \u001b[0;34m*\u001b[0m \u001b[0mla\u001b[0m \u001b[0;34m*\u001b[0m \u001b[0mx\u001b[0m\u001b[0;34m**\u001b[0m\u001b[0;36m2\u001b[0m\u001b[0;34m)\u001b[0m\u001b[0;34m\u001b[0m\u001b[0;34m\u001b[0m\u001b[0m\n\u001b[0m",
            "\u001b[0;31mKeyboardInterrupt\u001b[0m: "
          ]
        }
      ],
      "source": [
        "variance = []\n",
        "mean_value = []\n",
        "\n",
        "for l in L:\n",
        "  xx = Metropolis(n, P, l)\n",
        "  mean_ = mean_v(xx, l, E_L)\n",
        "  var_ = varr(xx, l, E_L)\n",
        "\n",
        "  variance.append(var_)\n",
        "  mean_value.append(mean_)"
      ],
      "id": "gF_nMHK8nfRI"
    },
    {
      "cell_type": "code",
      "source": [
        "#inja ham baz 7 min tool keshid! vaghaan nemidoonam :|||"
      ],
      "metadata": {
        "id": "IujNjlyv0hut"
      },
      "id": "IujNjlyv0hut",
      "execution_count": 73,
      "outputs": []
    },
    {
      "cell_type": "markdown",
      "metadata": {
        "id": "cP18n3ojnfRI"
      },
      "source": [
        "## (d)\n",
        "\n",
        "What's the sinificance of $\\sigma^2$? Explain in a few lines in Farsi or English."
      ],
      "id": "cP18n3ojnfRI"
    },
    {
      "cell_type": "code",
      "source": [
        "#It helps assess the risk that investors assume when they buy a specific asset and helps them determine whether the investment will be profitable."
      ],
      "metadata": {
        "id": "2XAeQmCyugHf"
      },
      "id": "2XAeQmCyugHf",
      "execution_count": 58,
      "outputs": []
    },
    {
      "cell_type": "markdown",
      "metadata": {
        "id": "SrCo0Xr9nfRJ"
      },
      "source": [
        ""
      ],
      "id": "SrCo0Xr9nfRJ"
    },
    {
      "cell_type": "markdown",
      "metadata": {
        "id": "q8NHV4-0nfRJ"
      },
      "source": [
        "# Importance sampling"
      ],
      "id": "q8NHV4-0nfRJ"
    },
    {
      "cell_type": "markdown",
      "metadata": {
        "id": "XTf1riT5nfRK"
      },
      "source": [
        "A frequently used method is Importance Sampling. In this method, a proxy distribution is introduced to sample random numbers from any distribution. In most cases, we choose a well-known distribution such as Gaussian distribution, uniform distribution as a proxy distribution. The main concept of this method can be simply written in the following form, where q(x) is a proxy distribution.\n"
      ],
      "id": "XTf1riT5nfRK"
    },
    {
      "cell_type": "markdown",
      "metadata": {
        "id": "APja1QzRnfRL"
      },
      "source": [
        "With Importance Sampling, instead of generating random numbers from p(x), we choose i.i.d samples ${x_i} (i=1,2,…,n)$ from a proxy distribution q(x) and approximate the integration value with the following calculation. Here, p(x)/q(x) is called importance of the sampling."
      ],
      "id": "APja1QzRnfRL"
    },
    {
      "cell_type": "markdown",
      "metadata": {
        "id": "2NlKBrAznfRM"
      },
      "source": [
        "Now, let’s use a Laplace distribution’ variance calculation as an example.\n",
        "Consider f(x)=x² and a probability density function p(x)=1/2 Exp(-|x|). The distribution with density function like p(x) is called Laplace distribution.\n",
        "If we choose a uniform distribution as a proxy distribution, the variance of the Laplace distribution can be approximately calculated by"
      ],
      "id": "2NlKBrAznfRM"
    },
    {
      "cell_type": "markdown",
      "metadata": {
        "id": "CbPmv_GwnfRO"
      },
      "source": [
        "With paper and a pencil, we can easily calculate the Var[x]. The value of this calculation is 2. Now confirm the result of the Importance Sampling method."
      ],
      "id": "CbPmv_GwnfRO"
    },
    {
      "cell_type": "markdown",
      "metadata": {
        "id": "t-BbzkdJnfRO"
      },
      "source": [
        "# Inverse Transform Sampling"
      ],
      "id": "t-BbzkdJnfRO"
    },
    {
      "cell_type": "markdown",
      "metadata": {
        "id": "uQF2FPdmnfRO"
      },
      "source": [
        "In Inverse Transform Sampling method, we use a random number u generated from a 1-dimensional uniform distribution to generate a random number x of any 1-dimensional probability density function p(x). In this case, we use the inverse function of the cumulative distribution function of p(x). If the cumulative distribution function of p(x) is P(x), then the inverse function of u=P(x) is x =P^-1 (u). Now, $x = P^-1 (u)$ has p(x) as probability density function on [0,1]. Therefore, with n samples from uniform distribution on [0,1] ${u_i} (i=1,2,…,n)$, we can generate n sample of p(x) distribution ${x_i} (i=1,2,…,n)$ by calculate $x_i = P^{-1}(u_i)$.\n",
        "\n",
        "Again, let's consider the Laplace distribution’s variance calculation as an example. This time we directly generate random numbers (samples) from the Laplace distribution’s probability density function using the Inverse Transform Sampling method. With these random numbers, we will again recalculate the approximated value of Var[x]."
      ],
      "id": "uQF2FPdmnfRO"
    },
    {
      "cell_type": "markdown",
      "metadata": {
        "id": "7Ncc1owFnfRX"
      },
      "source": [
        "Now check the result of this method."
      ],
      "id": "7Ncc1owFnfRX"
    },
    {
      "cell_type": "code",
      "source": [
        "def p(x):\n",
        "  return 0.5*np.exp(-abs(x))"
      ],
      "metadata": {
        "id": "lPa-roqcbEtf"
      },
      "id": "lPa-roqcbEtf",
      "execution_count": 74,
      "outputs": []
    },
    {
      "cell_type": "code",
      "source": [
        "def sgn(x):\n",
        " if x > 0:\n",
        "      return 1\n",
        " elif x == 0:\n",
        "      return 0\n",
        " else:\n",
        "      return -1"
      ],
      "metadata": {
        "id": "G-7WP_VVduy9"
      },
      "id": "G-7WP_VVduy9",
      "execution_count": 75,
      "outputs": []
    },
    {
      "cell_type": "code",
      "source": [
        "def P(x):\n",
        "    return 0.5*((1+sgn(x))(1-np.exp(-abs(x))))"
      ],
      "metadata": {
        "id": "v3jV-wj8eDMW"
      },
      "id": "v3jV-wj8eDMW",
      "execution_count": 76,
      "outputs": []
    },
    {
      "cell_type": "code",
      "source": [
        "def P_inverse(u):\n",
        "  return -1*sgn(u-0.5)*np.log(1-2*abs(u-0.5))"
      ],
      "metadata": {
        "id": "wd3ZfZ7SdGgH"
      },
      "id": "wd3ZfZ7SdGgH",
      "execution_count": 77,
      "outputs": []
    },
    {
      "cell_type": "code",
      "source": [
        "#generate random numbers (samples) from the Laplace distribution\n",
        "def generate_random(i):\n",
        "  j = []\n",
        "  for u in i:\n",
        "    j.append(P_inverse(u))\n",
        "  return j"
      ],
      "metadata": {
        "id": "E9ZefaWyeyTz"
      },
      "id": "E9ZefaWyeyTz",
      "execution_count": 78,
      "outputs": []
    },
    {
      "cell_type": "code",
      "source": [
        "Ns = 100\n",
        "R = np.random.uniform(0, 1 , Ns)\n",
        "theta = generate_random(R)"
      ],
      "metadata": {
        "id": "5X4L8mJufxsH"
      },
      "id": "5X4L8mJufxsH",
      "execution_count": 79,
      "outputs": []
    },
    {
      "cell_type": "code",
      "source": [
        "X = np.linspace(-50, 50, 10000)\n",
        "result = np.random.choice(theta, Ns)"
      ],
      "metadata": {
        "id": "naYRTBVZfxuk"
      },
      "id": "naYRTBVZfxuk",
      "execution_count": 80,
      "outputs": []
    },
    {
      "cell_type": "code",
      "source": [
        "t = Ns*[0]"
      ],
      "metadata": {
        "id": "MTy4W3geoNJV"
      },
      "id": "MTy4W3geoNJV",
      "execution_count": 81,
      "outputs": []
    },
    {
      "cell_type": "code",
      "source": [
        "plt.figure(figsize = (18, 8))\n",
        "plt.scatter(X,[p(i) for i in X], c = 'purple')\n",
        "plt.scatter(result, t, c = 'red', marker= '.')\n",
        "plt.title(\"numbers generated in laplace\")\n",
        "plt.show()"
      ],
      "metadata": {
        "colab": {
          "base_uri": "https://localhost:8080/",
          "height": 467
        },
        "id": "tF-zkrw1jL2y",
        "outputId": "1f80477c-78a5-4a16-e5ce-35f0f96b4bea"
      },
      "id": "tF-zkrw1jL2y",
      "execution_count": 82,
      "outputs": [
        {
          "output_type": "display_data",
          "data": {
            "text/plain": [
              "<Figure size 1296x576 with 1 Axes>"
            ],
            "image/png": "[encoded data removed]"
          },
          "metadata": {
            "needs_background": "light"
          }
        }
      ]
    },
    {
      "cell_type": "code",
      "source": [
        "#approximated value of Var[x]\n",
        "P = []\n",
        "n = []\n",
        "N = 100\n",
        "\n",
        "while N <= 10000:\n",
        "  R = np.random.uniform(0, 1, N)\n",
        "  theta = generate_random(R)\n",
        "  p = 0\n",
        "  for i in theta:\n",
        "    p += i**2\n",
        "\n",
        "  n.append(N)\n",
        "  P.append(p/N)\n",
        "  N = N*2\n",
        "    \n",
        "var = [2]*len(n)"
      ],
      "metadata": {
        "id": "DHJDjyqdjMDa"
      },
      "id": "DHJDjyqdjMDa",
      "execution_count": 83,
      "outputs": []
    },
    {
      "cell_type": "code",
      "execution_count": 84,
      "metadata": {
        "id": "mqGg1hZ3nfRY",
        "colab": {
          "base_uri": "https://localhost:8080/",
          "height": 452
        },
        "outputId": "41e1d331-a3a3-4066-a481-5caf707fe873"
      },
      "outputs": [
        {
          "output_type": "display_data",
          "data": {
            "text/plain": [
              "<Figure size 1296x576 with 1 Axes>"
            ],
            "image/png": "[encoded data removed]"
          },
          "metadata": {
            "needs_background": "light"
          }
        }
      ],
      "source": [
        "plt.figure(figsize = (18, 8))\n",
        "plt.plot(n, P)\n",
        "plt.plot(n, var, c = 'red')\n",
        "plt.show()"
      ],
      "id": "mqGg1hZ3nfRY"
    },
    {
      "cell_type": "markdown",
      "metadata": {
        "id": "F8B1LzeXnfRZ"
      },
      "source": [
        "# Rejection Sampling "
      ],
      "id": "F8B1LzeXnfRZ"
    },
    {
      "cell_type": "markdown",
      "metadata": {
        "id": "TF74pThbnfRb"
      },
      "source": [
        "The idea in Rejection Sampling is to use a proxy distribution (Gaussian or uniform distribution, etc.) called q(x) to generate a random number and use another uniform distribution to evaluate the generated sample whether or not to accept it as a sample generated from p(x). With this method, we can also generate random numbers from a higher dimensional distribution.\n",
        "\n",
        "As preparation in generating random numbers with this method, we need to know a finite value of L where max[p(x)/q(x)] < L. Here, q(x) is a proxy distribution.\n",
        "\n",
        "First, we generate a random number x’ from a proxy distribution q(x). This x’ is called a proposal point.<br>\n",
        "Next, generate a random number v from a uniform distribution on [0, L]. This v will be used to evaluate the proposal point, whether to be fine considering generated from p(x).<br>\n",
        "If v ≤ p(x’)/q(x’), then x’ is accepted as a random number generated by p(x), else, x’ is rejected.\n",
        "The algorithm in generating n random numbers with Rejection Sampling is"
      ],
      "id": "TF74pThbnfRb"
    },
    {
      "cell_type": "markdown",
      "metadata": {
        "id": "I4WMZQT4nfRe"
      },
      "source": [
        "Now use rejection sampling method to evaluate the variance of Laplace Distribution."
      ],
      "id": "I4WMZQT4nfRe"
    },
    {
      "cell_type": "code",
      "execution_count": 85,
      "metadata": {
        "id": "F9RmUTgmnfRf"
      },
      "outputs": [],
      "source": [
        "def p(x):\n",
        "    return 0.5*np.exp(-abs(x))"
      ],
      "id": "F9RmUTgmnfRf"
    },
    {
      "cell_type": "code",
      "source": [
        "def q(x):\n",
        "    a = 1\n",
        "    sigma = 1\n",
        "    mean = 0\n",
        "    return a * np.exp(-(mean)**2 / (2 * sigma**2))"
      ],
      "metadata": {
        "id": "UcNKHxc31S7G"
      },
      "id": "UcNKHxc31S7G",
      "execution_count": 131,
      "outputs": []
    },
    {
      "cell_type": "code",
      "source": [
        "#generate random numbers (samples) from the Laplace distribution\n",
        "def generate_random_(N):\n",
        "  X = np.linspace(-50, 50, 1000)\n",
        "  res = []\n",
        "\n",
        "  while len(res) < n:\n",
        "     rej = np.random.randn()\n",
        "     V = np.random.randn(0, T)\n",
        "\n",
        "     if V <= (p(rej)/q(rej)):\n",
        "       res.append(rej)\n",
        "  return res\n",
        "\n",
        "res = generate_random_(N= 100)"
      ],
      "metadata": {
        "colab": {
          "base_uri": "https://localhost:8080/",
          "height": 321
        },
        "id": "rOrWtRYE1S9V",
        "outputId": "fc983f84-eb99-4528-e22f-d2b130c758ea"
      },
      "id": "rOrWtRYE1S9V",
      "execution_count": 132,
      "outputs": [
        {
          "output_type": "error",
          "ename": "TypeError",
          "evalue": "ignored",
          "traceback": [
            "\u001b[0;31m---------------------------------------------------------------------------\u001b[0m",
            "\u001b[0;31mTypeError\u001b[0m                                 Traceback (most recent call last)",
            "\u001b[0;32m<ipython-input-132-28a0368754d3>\u001b[0m in \u001b[0;36m<module>\u001b[0;34m()\u001b[0m\n\u001b[1;32m     12\u001b[0m   \u001b[0;32mreturn\u001b[0m \u001b[0mres\u001b[0m\u001b[0;34m\u001b[0m\u001b[0;34m\u001b[0m\u001b[0m\n\u001b[1;32m     13\u001b[0m \u001b[0;34m\u001b[0m\u001b[0m\n\u001b[0;32m---> 14\u001b[0;31m \u001b[0mres\u001b[0m \u001b[0;34m=\u001b[0m \u001b[0mgenerate_random_\u001b[0m\u001b[0;34m(\u001b[0m\u001b[0mN\u001b[0m\u001b[0;34m=\u001b[0m \u001b[0;36m100\u001b[0m\u001b[0;34m)\u001b[0m\u001b[0;34m\u001b[0m\u001b[0;34m\u001b[0m\u001b[0m\n\u001b[0m",
            "\u001b[0;32m<ipython-input-132-28a0368754d3>\u001b[0m in \u001b[0;36mgenerate_random_\u001b[0;34m(N)\u001b[0m\n\u001b[1;32m      4\u001b[0m   \u001b[0mres\u001b[0m \u001b[0;34m=\u001b[0m \u001b[0;34m[\u001b[0m\u001b[0;34m]\u001b[0m\u001b[0;34m\u001b[0m\u001b[0;34m\u001b[0m\u001b[0m\n\u001b[1;32m      5\u001b[0m \u001b[0;34m\u001b[0m\u001b[0m\n\u001b[0;32m----> 6\u001b[0;31m   \u001b[0;32mwhile\u001b[0m \u001b[0mlen\u001b[0m\u001b[0;34m(\u001b[0m\u001b[0mres\u001b[0m\u001b[0;34m)\u001b[0m \u001b[0;34m<\u001b[0m \u001b[0mn\u001b[0m\u001b[0;34m:\u001b[0m\u001b[0;34m\u001b[0m\u001b[0;34m\u001b[0m\u001b[0m\n\u001b[0m\u001b[1;32m      7\u001b[0m      \u001b[0mrej\u001b[0m \u001b[0;34m=\u001b[0m \u001b[0mnp\u001b[0m\u001b[0;34m.\u001b[0m\u001b[0mrandom\u001b[0m\u001b[0;34m.\u001b[0m\u001b[0mrandn\u001b[0m\u001b[0;34m(\u001b[0m\u001b[0;34m)\u001b[0m\u001b[0;34m\u001b[0m\u001b[0;34m\u001b[0m\u001b[0m\n\u001b[1;32m      8\u001b[0m      \u001b[0mV\u001b[0m \u001b[0;34m=\u001b[0m \u001b[0mnp\u001b[0m\u001b[0;34m.\u001b[0m\u001b[0mrandom\u001b[0m\u001b[0;34m.\u001b[0m\u001b[0mrandn\u001b[0m\u001b[0;34m(\u001b[0m\u001b[0;36m0\u001b[0m\u001b[0;34m,\u001b[0m \u001b[0mT\u001b[0m\u001b[0;34m)\u001b[0m\u001b[0;34m\u001b[0m\u001b[0;34m\u001b[0m\u001b[0m\n",
            "\u001b[0;31mTypeError\u001b[0m: '<' not supported between instances of 'int' and 'list'"
          ]
        }
      ]
    },
    {
      "cell_type": "code",
      "source": [
        "plt.figure(figsize = (18, 8))\n",
        "X = np.linspace(-50, 50, 10000)\n",
        "plt.scatter(res, [0]*len(res) , marker='.', c='red')\n",
        "plt.scatter(X ,[p(i) for i in X], c='green')\n",
        "plt.show()"
      ],
      "metadata": {
        "colab": {
          "base_uri": "https://localhost:8080/",
          "height": 252
        },
        "id": "5LS-ny9_9XYH",
        "outputId": "7cd54e0d-d0ea-401e-f042-0c0890948e7e"
      },
      "id": "5LS-ny9_9XYH",
      "execution_count": 116,
      "outputs": [
        {
          "output_type": "error",
          "ename": "NameError",
          "evalue": "ignored",
          "traceback": [
            "\u001b[0;31m---------------------------------------------------------------------------\u001b[0m",
            "\u001b[0;31mNameError\u001b[0m                                 Traceback (most recent call last)",
            "\u001b[0;32m<ipython-input-116-f8d78bbe1837>\u001b[0m in \u001b[0;36m<module>\u001b[0;34m()\u001b[0m\n\u001b[1;32m      1\u001b[0m \u001b[0mplt\u001b[0m\u001b[0;34m.\u001b[0m\u001b[0mfigure\u001b[0m\u001b[0;34m(\u001b[0m\u001b[0mfigsize\u001b[0m \u001b[0;34m=\u001b[0m \u001b[0;34m(\u001b[0m\u001b[0;36m18\u001b[0m\u001b[0;34m,\u001b[0m \u001b[0;36m8\u001b[0m\u001b[0;34m)\u001b[0m\u001b[0;34m)\u001b[0m\u001b[0;34m\u001b[0m\u001b[0;34m\u001b[0m\u001b[0m\n\u001b[1;32m      2\u001b[0m \u001b[0mX\u001b[0m \u001b[0;34m=\u001b[0m \u001b[0mnp\u001b[0m\u001b[0;34m.\u001b[0m\u001b[0mlinspace\u001b[0m\u001b[0;34m(\u001b[0m\u001b[0;34m-\u001b[0m\u001b[0;36m50\u001b[0m\u001b[0;34m,\u001b[0m \u001b[0;36m50\u001b[0m\u001b[0;34m,\u001b[0m \u001b[0;36m10000\u001b[0m\u001b[0;34m)\u001b[0m\u001b[0;34m\u001b[0m\u001b[0;34m\u001b[0m\u001b[0m\n\u001b[0;32m----> 3\u001b[0;31m \u001b[0mplt\u001b[0m\u001b[0;34m.\u001b[0m\u001b[0mscatter\u001b[0m\u001b[0;34m(\u001b[0m\u001b[0mres\u001b[0m\u001b[0;34m,\u001b[0m \u001b[0;34m[\u001b[0m\u001b[0;36m0\u001b[0m\u001b[0;34m]\u001b[0m\u001b[0;34m*\u001b[0m\u001b[0mlen\u001b[0m\u001b[0;34m(\u001b[0m\u001b[0mres\u001b[0m\u001b[0;34m)\u001b[0m \u001b[0;34m,\u001b[0m \u001b[0mmarker\u001b[0m\u001b[0;34m=\u001b[0m\u001b[0;34m'.'\u001b[0m\u001b[0;34m,\u001b[0m \u001b[0mc\u001b[0m\u001b[0;34m=\u001b[0m\u001b[0;34m'red'\u001b[0m\u001b[0;34m)\u001b[0m\u001b[0;34m\u001b[0m\u001b[0;34m\u001b[0m\u001b[0m\n\u001b[0m\u001b[1;32m      4\u001b[0m \u001b[0mplt\u001b[0m\u001b[0;34m.\u001b[0m\u001b[0mscatter\u001b[0m\u001b[0;34m(\u001b[0m\u001b[0mX\u001b[0m \u001b[0;34m,\u001b[0m\u001b[0;34m[\u001b[0m\u001b[0mp\u001b[0m\u001b[0;34m(\u001b[0m\u001b[0mi\u001b[0m\u001b[0;34m)\u001b[0m \u001b[0;32mfor\u001b[0m \u001b[0mi\u001b[0m \u001b[0;32min\u001b[0m \u001b[0mX\u001b[0m\u001b[0;34m]\u001b[0m\u001b[0;34m,\u001b[0m \u001b[0mc\u001b[0m\u001b[0;34m=\u001b[0m\u001b[0;34m'green'\u001b[0m\u001b[0;34m)\u001b[0m\u001b[0;34m\u001b[0m\u001b[0;34m\u001b[0m\u001b[0m\n\u001b[1;32m      5\u001b[0m \u001b[0mplt\u001b[0m\u001b[0;34m.\u001b[0m\u001b[0mshow\u001b[0m\u001b[0;34m(\u001b[0m\u001b[0;34m)\u001b[0m\u001b[0;34m\u001b[0m\u001b[0;34m\u001b[0m\u001b[0m\n",
            "\u001b[0;31mNameError\u001b[0m: name 'res' is not defined"
          ]
        },
        {
          "output_type": "display_data",
          "data": {
            "text/plain": [
              "<Figure size 1296x576 with 0 Axes>"
            ]
          },
          "metadata": {}
        }
      ]
    },
    {
      "cell_type": "code",
      "source": [
        "#approximated value of Var[x]\n",
        "P = []\n",
        "n = []\n",
        "N = 100\n",
        "\n",
        "while N <= 10000:\n",
        "  R = np.random.uniform(0, 1, N)\n",
        "  theta = generate_random(R)\n",
        "  p = 0\n",
        "  for i in theta:\n",
        "    p += i**2\n",
        "\n",
        "  n.append(N)\n",
        "  P.append(p/N)\n",
        "  N = N*2\n",
        "    \n",
        "var = [2]*len(n)\n",
        "\n",
        "plt.figure(figsize = (18, 8))\n",
        "plt.plot(n,P)\n",
        "plt.plot(n, var, c = 'red')\n",
        "plt.show()"
      ],
      "metadata": {
        "colab": {
          "base_uri": "https://localhost:8080/",
          "height": 452
        },
        "id": "Ok48EUZV-TZe",
        "outputId": "e5fd9f7e-3f8d-401d-c0c3-726397962d73"
      },
      "id": "Ok48EUZV-TZe",
      "execution_count": 104,
      "outputs": [
        {
          "output_type": "display_data",
          "data": {
            "text/plain": [
              "<Figure size 1296x576 with 1 Axes>"
            ],
            "image/png": "[encoded data removed]"
          },
          "metadata": {
            "needs_background": "light"
          }
        }
      ]
    },
    {
      "cell_type": "markdown",
      "metadata": {
        "id": "DX3mHIC3nfRf"
      },
      "source": [
        "# Markov Chain Monte carlo method(MCMC)"
      ],
      "id": "DX3mHIC3nfRf"
    },
    {
      "cell_type": "markdown",
      "metadata": {
        "id": "frn1YNLXnfRf"
      },
      "source": [
        "In the Rejection sampling method, it is impossible to generate random numbers when the upper boundary L is not known. MCMC method is an effective solution to this problem. MCMC method uses the concept of a stochastic process (Markov chain in this case). In this case, the generation of i-th sample $x_i$ depends on the previous sample $x_{i-1}$. ${x_1, x_2, …,x_n}$ with this concept is called a Markov chain. Here, I introduce one of the MCMC methods, the Metropolis-Hastings method.<br>\n",
        "\n",
        "The process in this method is similar to Rejection sampling. But here, a proxy distribution density function is represented by a conditional probability $q(x|x_i)$, and the evaluation index v is generated from a uniform distribution on [0,1].<br>\n",
        "\n",
        "First, we generate a random number x’ from a proxy distribution $q(x|x_i)$. This x’ is called a proposal point.<br>\n",
        "Next, generate a random number v from a uniform distribution on [0, 1]. This v will be used to evaluate the proposal point, whether to be fine considering generated from p(x).<br>\n",
        "If $v ≤ p(x’)q(x_i|x’)/(p(x_i)q(x’|x_i))$, then x’ is accepted as a random number generated by p(x), else, x’ is rejected.<br>\n",
        "The algorithm in generating n random numbers with Rejection Sampling is"
      ],
      "id": "frn1YNLXnfRf"
    },
    {
      "cell_type": "markdown",
      "metadata": {
        "id": "zWaSnW1ynfRg"
      },
      "source": [
        "Now use MCMC to calculate the variance of Laplace Distribution."
      ],
      "id": "zWaSnW1ynfRg"
    },
    {
      "cell_type": "code",
      "execution_count": 125,
      "metadata": {
        "id": "rtv3JdOZnfRg"
      },
      "outputs": [],
      "source": [
        "def p(x):\n",
        " return 0.5*np.exp(-abs(x))"
      ],
      "id": "rtv3JdOZnfRg"
    },
    {
      "cell_type": "code",
      "source": [
        "def q(x, theta, sigma):\n",
        "    return norm.pdf(x, theta, sigma)"
      ],
      "metadata": {
        "id": "M3uhpDbH381W"
      },
      "id": "M3uhpDbH381W",
      "execution_count": 126,
      "outputs": []
    }
  ],
  "metadata": {
    "hide_input": false,
    "kernelspec": {
      "display_name": "Python 3",
      "language": "python",
      "name": "python3"
    },
    "language_info": {
      "codemirror_mode": {
        "name": "ipython",
        "version": 3
      },
      "file_extension": ".py",
      "mimetype": "text/x-python",
      "name": "python",
      "nbconvert_exporter": "python",
      "pygments_lexer": "ipython3",
      "version": "3.8.5"
    },
    "toc": {
      "base_numbering": 1,
      "nav_menu": {},
      "number_sections": true,
      "sideBar": true,
      "skip_h1_title": false,
      "title_cell": "Table of Contents",
      "title_sidebar": "Contents",
      "toc_cell": false,
      "toc_position": {},
      "toc_section_display": true,
      "toc_window_display": false
    },
    "colab": {
      "name": "set_07.ipynb",
      "provenance": [],
      "collapsed_sections": []
    }
  },
  "nbformat": 4,
  "nbformat_minor": 5
}